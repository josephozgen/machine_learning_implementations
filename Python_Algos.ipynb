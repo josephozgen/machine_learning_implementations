{
 "cells": [
  {
   "cell_type": "code",
   "execution_count": 1,
   "metadata": {},
   "outputs": [],
   "source": [
    "def sum1(n):\n",
    "    final_sum = 0\n",
    "    for i in range(n+1):\n",
    "        final_sum += i\n",
    "        \n",
    "    return final_sum\n"
   ]
  },
  {
   "cell_type": "code",
   "execution_count": 2,
   "metadata": {},
   "outputs": [
    {
     "data": {
      "text/plain": [
       "15"
      ]
     },
     "execution_count": 2,
     "metadata": {},
     "output_type": "execute_result"
    }
   ],
   "source": [
    "sum1(5)"
   ]
  },
  {
   "cell_type": "code",
   "execution_count": 3,
   "metadata": {},
   "outputs": [],
   "source": [
    "def sum2(n):\n",
    "    return (n*(n+1))/2"
   ]
  },
  {
   "cell_type": "code",
   "execution_count": 4,
   "metadata": {},
   "outputs": [
    {
     "data": {
      "text/plain": [
       "15.0"
      ]
     },
     "execution_count": 4,
     "metadata": {},
     "output_type": "execute_result"
    }
   ],
   "source": [
    "sum2(5)"
   ]
  },
  {
   "cell_type": "code",
   "execution_count": 5,
   "metadata": {},
   "outputs": [
    {
     "name": "stdout",
     "output_type": "stream",
     "text": [
      "5.21 µs ± 745 ns per loop (mean ± std. dev. of 7 runs, 100000 loops each)\n"
     ]
    }
   ],
   "source": [
    "%timeit sum1(100)"
   ]
  },
  {
   "cell_type": "code",
   "execution_count": 6,
   "metadata": {},
   "outputs": [
    {
     "name": "stdout",
     "output_type": "stream",
     "text": [
      "187 ns ± 15.2 ns per loop (mean ± std. dev. of 7 runs, 10000000 loops each)\n"
     ]
    }
   ],
   "source": [
    "%timeit sum2(100)"
   ]
  },
  {
   "cell_type": "code",
   "execution_count": 7,
   "metadata": {},
   "outputs": [],
   "source": [
    "import numpy as np\n",
    "import matplotlib.pyplot as plt\n",
    "%matplotlib inline\n",
    "plt.style.use('bmh')"
   ]
  },
  {
   "cell_type": "code",
   "execution_count": 9,
   "metadata": {},
   "outputs": [
    {
     "data": {
      "text/plain": [
       "array([ 1.        ,  1.18367347,  1.36734694,  1.55102041,  1.73469388,\n",
       "        1.91836735,  2.10204082,  2.28571429,  2.46938776,  2.65306122,\n",
       "        2.83673469,  3.02040816,  3.20408163,  3.3877551 ,  3.57142857,\n",
       "        3.75510204,  3.93877551,  4.12244898,  4.30612245,  4.48979592,\n",
       "        4.67346939,  4.85714286,  5.04081633,  5.2244898 ,  5.40816327,\n",
       "        5.59183673,  5.7755102 ,  5.95918367,  6.14285714,  6.32653061,\n",
       "        6.51020408,  6.69387755,  6.87755102,  7.06122449,  7.24489796,\n",
       "        7.42857143,  7.6122449 ,  7.79591837,  7.97959184,  8.16326531,\n",
       "        8.34693878,  8.53061224,  8.71428571,  8.89795918,  9.08163265,\n",
       "        9.26530612,  9.44897959,  9.63265306,  9.81632653, 10.        ])"
      ]
     },
     "execution_count": 9,
     "metadata": {},
     "output_type": "execute_result"
    }
   ],
   "source": [
    "n"
   ]
  },
  {
   "cell_type": "code",
   "execution_count": 14,
   "metadata": {},
   "outputs": [
    {
     "data": {
      "text/plain": [
       "array([1., 1., 1., 1., 1., 1., 1., 1., 1., 1., 1., 1., 1., 1., 1., 1., 1.,\n",
       "       1., 1., 1., 1., 1., 1., 1., 1., 1., 1., 1., 1., 1., 1., 1., 1., 1.,\n",
       "       1., 1., 1., 1., 1., 1., 1., 1., 1., 1., 1., 1., 1., 1., 1., 1.])"
      ]
     },
     "execution_count": 14,
     "metadata": {},
     "output_type": "execute_result"
    }
   ],
   "source": [
    "np.ones(50)"
   ]
  },
  {
   "cell_type": "code",
   "execution_count": 15,
   "metadata": {},
   "outputs": [
    {
     "data": {
      "text/plain": [
       "array([1., 1., 1., 1., 1., 1., 1., 1., 1., 1., 1., 1., 1., 1., 1., 1., 1.,\n",
       "       1., 1., 1., 1., 1., 1., 1., 1., 1., 1., 1., 1., 1., 1., 1., 1., 1.,\n",
       "       1., 1., 1., 1., 1., 1., 1., 1., 1., 1., 1., 1., 1., 1., 1., 1.])"
      ]
     },
     "execution_count": 15,
     "metadata": {},
     "output_type": "execute_result"
    }
   ],
   "source": [
    "np.ones(n.shape)"
   ]
  },
  {
   "cell_type": "code",
   "execution_count": 16,
   "metadata": {},
   "outputs": [
    {
     "data": {
      "text/plain": [
       "False"
      ]
     },
     "execution_count": 16,
     "metadata": {},
     "output_type": "execute_result"
    }
   ],
   "source": [
    "50 == n.shape"
   ]
  },
  {
   "cell_type": "code",
   "execution_count": 17,
   "metadata": {},
   "outputs": [
    {
     "data": {
      "text/plain": [
       "[array([1., 1., 1., 1., 1., 1., 1., 1., 1., 1., 1., 1., 1., 1., 1., 1., 1.,\n",
       "        1., 1., 1., 1., 1., 1., 1., 1., 1., 1., 1., 1., 1., 1., 1., 1., 1.,\n",
       "        1., 1., 1., 1., 1., 1., 1., 1., 1., 1., 1., 1., 1., 1., 1., 1.]),\n",
       " array([0.        , 0.16862271, 0.31287232, 0.43891304, 0.55083096,\n",
       "        0.65147448, 0.74290869, 0.82667857, 0.90397025, 0.97571415,\n",
       "        1.04265364, 1.10539198, 1.16442551, 1.22016749, 1.27296568,\n",
       "        1.32311546, 1.37086989, 1.4164474 , 1.46003784, 1.50180725,\n",
       "        1.54190171, 1.58045038, 1.61756804, 1.65335715, 1.68790953,\n",
       "        1.72130781, 1.7536266 , 1.7849335 , 1.81528997, 1.844752  ,\n",
       "        1.8733708 , 1.90119331, 1.92826263, 1.95461848, 1.98029749,\n",
       "        2.00533357, 2.02975812, 2.05360031, 2.07688726, 2.09964425,\n",
       "        2.12189486, 2.14366113, 2.16496372, 2.18582195, 2.20625398,\n",
       "        2.2262769 , 2.24590676, 2.26515869, 2.28404697, 2.30258509]),\n",
       " array([ 1.        ,  1.18367347,  1.36734694,  1.55102041,  1.73469388,\n",
       "         1.91836735,  2.10204082,  2.28571429,  2.46938776,  2.65306122,\n",
       "         2.83673469,  3.02040816,  3.20408163,  3.3877551 ,  3.57142857,\n",
       "         3.75510204,  3.93877551,  4.12244898,  4.30612245,  4.48979592,\n",
       "         4.67346939,  4.85714286,  5.04081633,  5.2244898 ,  5.40816327,\n",
       "         5.59183673,  5.7755102 ,  5.95918367,  6.14285714,  6.32653061,\n",
       "         6.51020408,  6.69387755,  6.87755102,  7.06122449,  7.24489796,\n",
       "         7.42857143,  7.6122449 ,  7.79591837,  7.97959184,  8.16326531,\n",
       "         8.34693878,  8.53061224,  8.71428571,  8.89795918,  9.08163265,\n",
       "         9.26530612,  9.44897959,  9.63265306,  9.81632653, 10.        ]),\n",
       " array([ 0.        ,  0.19959423,  0.42780501,  0.68076309,  0.95552309,\n",
       "         1.24976738,  1.56162439,  1.88955102,  2.23225306,  2.58862938,\n",
       "         2.95773174,  3.33873495,  3.73091438,  4.13362864,  4.54630599,\n",
       "         4.96843356,  5.39954875,  5.83923214,  6.2871017 ,  6.74280805,\n",
       "         7.20603042,  7.67647325,  8.15386338,  8.63794754,  9.1284903 ,\n",
       "         9.62527223, 10.12808832, 10.6367466 , 11.15106694, 11.67088   ,\n",
       "        12.19602626, 12.72635522, 13.26172463, 13.80199986, 14.34705325,\n",
       "        14.89676366, 15.4510159 , 16.00970038, 16.57271264, 17.13995305,\n",
       "        17.71132647, 18.28674192, 18.86611237, 19.44935445, 20.03638822,\n",
       "        20.62713699, 21.2215271 , 21.81948777, 22.42095089, 23.02585093]),\n",
       " array([  1.        ,   1.40108288,   1.86963765,   2.40566431,\n",
       "          3.00916285,   3.68013328,   4.41857559,   5.2244898 ,\n",
       "          6.09787589,   7.03873386,   8.04706372,   9.12286547,\n",
       "         10.26613911,  11.47688463,  12.75510204,  14.10079134,\n",
       "         15.51395252,  16.99458559,  18.54269055,  20.15826739,\n",
       "         21.84131612,  23.59183673,  25.40982924,  27.29529363,\n",
       "         29.2482299 ,  31.26863807,  33.35651812,  35.51187005,\n",
       "         37.73469388,  40.02498959,  42.38275718,  44.80799667,\n",
       "         47.30070804,  49.8608913 ,  52.48854644,  55.18367347,\n",
       "         57.94627239,  60.77634319,  63.67388588,  66.63890046,\n",
       "         69.67138692,  72.77134527,  75.93877551,  79.17367763,\n",
       "         82.47605165,  85.84589754,  89.28321533,  92.788005  ,\n",
       "         96.36026656, 100.        ]),\n",
       " array([   1.        ,    1.65842464,    2.55644332,    3.73123443,\n",
       "           5.21997637,    7.05984751,    9.28802625,   11.94169096,\n",
       "          15.05802004,   18.67419188,   22.82738485,   27.55477735,\n",
       "          32.89354776,   38.88087447,   45.55393586,   52.94991033,\n",
       "          61.10597625,   70.05931202,   79.84709602,   90.50650664,\n",
       "         102.07472227,  114.58892128,  128.08628208,  142.60398303,\n",
       "         158.17920254,  174.84911899,  192.65091076,  211.62175624,\n",
       "         231.79883382,  253.21932188,  275.92039881,  299.939243  ,\n",
       "         325.31303283,  352.0789467 ,  380.27416298,  409.93586006,\n",
       "         441.10121633,  473.80741018,  508.09161999,  543.99102415,\n",
       "         581.54280104,  620.78412906,  661.75218659,  704.48415201,\n",
       "         749.01720372,  795.38852009,  843.63527952,  893.79466039,\n",
       "         945.90384109, 1000.        ]),\n",
       " array([   2.        ,    2.27154434,    2.57995685,    2.9302432 ,\n",
       "           3.32808868,    3.77995051,    4.2931626 ,    4.87605462,\n",
       "           5.53808714,    6.29000526,    7.14401294,    8.1139711 ,\n",
       "           9.21562258,   10.46684767,   11.88795431,   13.50200769,\n",
       "          15.3352046 ,   17.41729864,   19.78208311,   22.4679395 ,\n",
       "          25.51846045,   28.98315726,   32.91826347,   37.3876476 ,\n",
       "          42.46384973,   48.22925884,   54.77745007,   62.21470345,\n",
       "          70.66172888,   80.25562529,   91.15210586,  103.52802526,\n",
       "         117.58425012,  133.54891916,  151.681146  ,  172.27522466,\n",
       "         195.66540611,  222.2313233 ,  252.40415277,  286.67361283,\n",
       "         325.59591193,  369.80277612,  420.01170228,  477.0376034 ,\n",
       "         541.80603498,  615.3682172 ,  698.91809669,  793.81172479,\n",
       "         901.5892669 , 1024.        ])]"
      ]
     },
     "execution_count": 17,
     "metadata": {},
     "output_type": "execute_result"
    }
   ],
   "source": [
    "big_o"
   ]
  },
  {
   "cell_type": "code",
   "execution_count": 19,
   "metadata": {},
   "outputs": [
    {
     "data": {
      "text/plain": [
       "Text(0.5, 0, 'n')"
      ]
     },
     "execution_count": 19,
     "metadata": {},
     "output_type": "execute_result"
    },
    {
     "data": {
      "image/png": "[encoded data removed]",
      "text/plain": [
       "<Figure size 864x720 with 1 Axes>"
      ]
     },
     "metadata": {
      "needs_background": "light"
     },
     "output_type": "display_data"
    }
   ],
   "source": [
    "plt.figure(figsize=(12,10))\n",
    "plt.ylim(0, 50)\n",
    "\n",
    "for i in range(len(big_o)):\n",
    "    plt.plot(n, big_o[i], label = labels[i])\n",
    "    \n",
    "plt.legend(loc=2)\n",
    "plt.ylabel('Relative Runtime')\n",
    "plt.xlabel('n')"
   ]
  },
  {
   "cell_type": "code",
   "execution_count": 20,
   "metadata": {},
   "outputs": [],
   "source": [
    "def matcher(lst, match):\n",
    "    '''\n",
    "    Given a list lst, return a boolean indicating if match item is in the list\n",
    "    '''\n",
    "    for item in lst:\n",
    "        if item == match:\n",
    "            return True\n",
    "    return False"
   ]
  },
  {
   "cell_type": "code",
   "execution_count": 21,
   "metadata": {},
   "outputs": [],
   "source": [
    "def memory(n=10):\n",
    "    for x in range(n):\n",
    "        print('Memory')"
   ]
  },
  {
   "cell_type": "code",
   "execution_count": 22,
   "metadata": {},
   "outputs": [
    {
     "name": "stdout",
     "output_type": "stream",
     "text": [
      "Length:   0;   Size in bytes:   56 \n",
      "Length:   1;   Size in bytes:   88 \n",
      "Length:   2;   Size in bytes:   88 \n",
      "Length:   3;   Size in bytes:   88 \n",
      "Length:   4;   Size in bytes:   88 \n",
      "Length:   5;   Size in bytes:  120 \n",
      "Length:   6;   Size in bytes:  120 \n",
      "Length:   7;   Size in bytes:  120 \n",
      "Length:   8;   Size in bytes:  120 \n",
      "Length:   9;   Size in bytes:  184 \n"
     ]
    }
   ],
   "source": [
    "import sys\n",
    "n = 10\n",
    "data = []\n",
    "for i in range(n):\n",
    "    a = len(data)\n",
    "    b = sys.getsizeof(data)\n",
    "    \n",
    "    print('Length: {0:3d};   Size in bytes: {1:4d} '.format(a,b))\n",
    "    \n",
    "    data.append(n)\n"
   ]
  },
  {
   "cell_type": "code",
   "execution_count": 23,
   "metadata": {},
   "outputs": [],
   "source": [
    "def anagram(s1, s2):\n",
    "    \n",
    "    # Remove spaces and lowercase letters\n",
    "    s1 = s1.replace(' ','').lower()\n",
    "    s2 = s2.replace(' ','').lower()\n",
    "    \n",
    "    # Return boolean for sorted match\n",
    "    return sorted(s1) == sorted(s2)"
   ]
  },
  {
   "cell_type": "code",
   "execution_count": 24,
   "metadata": {},
   "outputs": [
    {
     "data": {
      "text/plain": [
       "True"
      ]
     },
     "execution_count": 24,
     "metadata": {},
     "output_type": "execute_result"
    }
   ],
   "source": [
    "anagram('dog','god')"
   ]
  },
  {
   "cell_type": "code",
   "execution_count": 38,
   "metadata": {},
   "outputs": [],
   "source": [
    "def anagram1(s1, s2):\n",
    "    \n",
    "    # Remove spaces and lowercase letters\n",
    "    s1 = s1.replace(' ','').lower()\n",
    "    s2 = s2.replace(' ','').lower()\n",
    "    \n",
    "    # check if same number of letters\n",
    "    if len(s1) != len(s2):\n",
    "        return False\n",
    "    \n",
    "    # count frequency of each letter\n",
    "    count = {}\n",
    "    \n",
    "    for letter in s1: # for every letter in  first string\n",
    "        if letter in count: # if letter is alrady in my dictionary, then\n",
    "            count[letter] += 1 # add 1 to that letter key\n",
    "        else:\n",
    "            count[letter] = 1\n",
    "    \n",
    "    # do reverse for the second string\n",
    "    for letter in s2:\n",
    "        if letter in count:\n",
    "            count[letter] -= 1\n",
    "        else: \n",
    "            #count[letter] = 1\n",
    "            return False\n",
    "    \n",
    "    for k in count:\n",
    "        if count[k] != 0:\n",
    "            return False\n",
    "    \n",
    "    return True\n",
    "     "
   ]
  },
  {
   "cell_type": "code",
   "execution_count": 41,
   "metadata": {},
   "outputs": [
    {
     "data": {
      "text/plain": [
       "False"
      ]
     },
     "execution_count": 41,
     "metadata": {},
     "output_type": "execute_result"
    }
   ],
   "source": [
    "anagram1('Clint Eastwood', 'old WEST actiob')"
   ]
  },
  {
   "cell_type": "code",
   "execution_count": 42,
   "metadata": {},
   "outputs": [],
   "source": [
    "def pair_sum(arr, k):\n",
    "    if len(arr) < 2:\n",
    "        return print('Too short')\n",
    "    new_arr = []\n",
    "    for i in range(len(arr)-1):\n",
    "        for j in range(1,len(arr)):\n",
    "            if (arr[i] + arr[j] == k):\n",
    "                new_arr.append((arr[i], arr[j]))\n",
    "    \n",
    "    return new_arr"
   ]
  },
  {
   "cell_type": "code",
   "execution_count": 43,
   "metadata": {},
   "outputs": [
    {
     "data": {
      "text/plain": [
       "[(1, 3), (2, 2), (2, 2)]"
      ]
     },
     "execution_count": 43,
     "metadata": {},
     "output_type": "execute_result"
    }
   ],
   "source": [
    "pair_sum([1,3,2,2], 4)"
   ]
  },
  {
   "cell_type": "code",
   "execution_count": null,
   "metadata": {},
   "outputs": [],
   "source": []
  }
 ],
 "metadata": {
  "kernelspec": {
   "display_name": "Python 3",
   "language": "python",
   "name": "python3"
  },
  "language_info": {
   "codemirror_mode": {
    "name": "ipython",
    "version": 3
   },
   "file_extension": ".py",
   "mimetype": "text/x-python",
   "name": "python",
   "nbconvert_exporter": "python",
   "pygments_lexer": "ipython3",
   "version": "3.8.3"
  }
 },
 "nbformat": 4,
 "nbformat_minor": 4
}
