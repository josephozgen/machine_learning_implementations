{
 "cells": [
  {
   "cell_type": "code",
   "execution_count": 1,
   "metadata": {},
   "outputs": [],
   "source": [
    "import pandas as pd\n",
    "import numpy as np\n",
    "import matplotlib.pyplot as plt\n",
    "import seaborn as sns"
   ]
  },
  {
   "cell_type": "code",
   "execution_count": 2,
   "metadata": {},
   "outputs": [],
   "source": [
    "?pd.read_excel"
   ]
  },
  {
   "cell_type": "code",
   "execution_count": 41,
   "metadata": {},
   "outputs": [],
   "source": [
    "df = pd.read_excel('qcew-nonprofits-2017.xlsx', sheet_name=\"2017 Nonprofit Data\",header=[3])"
   ]
  },
  {
   "cell_type": "code",
   "execution_count": 42,
   "metadata": {},
   "outputs": [
    {
     "data": {
      "text/html": [
       "<div>\n",
       "<style scoped>\n",
       "    .dataframe tbody tr th:only-of-type {\n",
       "        vertical-align: middle;\n",
       "    }\n",
       "\n",
       "    .dataframe tbody tr th {\n",
       "        vertical-align: top;\n",
       "    }\n",
       "\n",
       "    .dataframe thead th {\n",
       "        text-align: right;\n",
       "    }\n",
       "</style>\n",
       "<table border=\"1\" class=\"dataframe\">\n",
       "  <thead>\n",
       "    <tr style=\"text-align: right;\">\n",
       "      <th></th>\n",
       "      <th>FIPS</th>\n",
       "      <th>Geographic Title</th>\n",
       "      <th>NAICS</th>\n",
       "      <th>Industry Title</th>\n",
       "      <th>Average_establishments</th>\n",
       "      <th>Annual \\naverage\\nemployment</th>\n",
       "      <th>Total annual\\nwages\\n(in thousands)</th>\n",
       "      <th>Annual\\nwages per\\nemployee</th>\n",
       "      <th>Average\\nweekly wage</th>\n",
       "      <th>Average \\nestablishments</th>\n",
       "      <th>Annual \\naverage\\nemployment.1</th>\n",
       "      <th>Total annual\\nwages\\n(in thousands).1</th>\n",
       "      <th>Annual\\nwages per\\nemployee.1</th>\n",
       "      <th>Average\\nweekly wage.1</th>\n",
       "      <th>Percent  employment 501(c)(3)</th>\n",
       "      <th>Wage\\nRatio</th>\n",
       "      <th>Geographic Level</th>\n",
       "      <th>Industry Level</th>\n",
       "    </tr>\n",
       "  </thead>\n",
       "  <tbody>\n",
       "    <tr>\n",
       "      <th>0</th>\n",
       "      <td>0</td>\n",
       "      <td>U.S. Totals</td>\n",
       "      <td>10</td>\n",
       "      <td>Total Private</td>\n",
       "      <td>9536831</td>\n",
       "      <td>122386565</td>\n",
       "      <td>6772575479</td>\n",
       "      <td>55338</td>\n",
       "      <td>1064</td>\n",
       "      <td>299457</td>\n",
       "      <td>12488563</td>\n",
       "      <td>670218053</td>\n",
       "      <td>53667</td>\n",
       "      <td>1032</td>\n",
       "      <td>0.102042</td>\n",
       "      <td>0.966503</td>\n",
       "      <td>1_U.S._Totals</td>\n",
       "      <td>1_Total_Private</td>\n",
       "    </tr>\n",
       "    <tr>\n",
       "      <th>1</th>\n",
       "      <td>0</td>\n",
       "      <td>U.S. Totals</td>\n",
       "      <td>11</td>\n",
       "      <td>Agriculture, Forestry, Fishing and Hunting</td>\n",
       "      <td>104445</td>\n",
       "      <td>1261312</td>\n",
       "      <td>43470311</td>\n",
       "      <td>34464</td>\n",
       "      <td>663</td>\n",
       "      <td>338</td>\n",
       "      <td>2976</td>\n",
       "      <td>104105</td>\n",
       "      <td>34981</td>\n",
       "      <td>673</td>\n",
       "      <td>0.002359</td>\n",
       "      <td>1.015031</td>\n",
       "      <td>1_U.S._Totals</td>\n",
       "      <td>2_Sector_(2-digit_NAICS)</td>\n",
       "    </tr>\n",
       "    <tr>\n",
       "      <th>2</th>\n",
       "      <td>0</td>\n",
       "      <td>U.S. Totals</td>\n",
       "      <td>111</td>\n",
       "      <td>Crop Production</td>\n",
       "      <td>47420</td>\n",
       "      <td>554994</td>\n",
       "      <td>18200268</td>\n",
       "      <td>32794</td>\n",
       "      <td>631</td>\n",
       "      <td>112</td>\n",
       "      <td>1162</td>\n",
       "      <td>38847</td>\n",
       "      <td>33431</td>\n",
       "      <td>643</td>\n",
       "      <td>0.002094</td>\n",
       "      <td>1.019486</td>\n",
       "      <td>1_U.S._Totals</td>\n",
       "      <td>3_Subsector_(3-digit_NAICS)</td>\n",
       "    </tr>\n",
       "    <tr>\n",
       "      <th>3</th>\n",
       "      <td>0</td>\n",
       "      <td>U.S. Totals</td>\n",
       "      <td>112</td>\n",
       "      <td>Animal Production and Aquaculture</td>\n",
       "      <td>25732</td>\n",
       "      <td>262870</td>\n",
       "      <td>9877259</td>\n",
       "      <td>37575</td>\n",
       "      <td>723</td>\n",
       "      <td>79</td>\n",
       "      <td>619</td>\n",
       "      <td>24429</td>\n",
       "      <td>39465</td>\n",
       "      <td>759</td>\n",
       "      <td>0.002355</td>\n",
       "      <td>1.050439</td>\n",
       "      <td>1_U.S._Totals</td>\n",
       "      <td>3_Subsector_(3-digit_NAICS)</td>\n",
       "    </tr>\n",
       "    <tr>\n",
       "      <th>4</th>\n",
       "      <td>0</td>\n",
       "      <td>U.S. Totals</td>\n",
       "      <td>115</td>\n",
       "      <td>Support Activities for Agriculture and Forestry</td>\n",
       "      <td>19493</td>\n",
       "      <td>381145</td>\n",
       "      <td>12422696</td>\n",
       "      <td>32593</td>\n",
       "      <td>627</td>\n",
       "      <td>126</td>\n",
       "      <td>1065</td>\n",
       "      <td>37498</td>\n",
       "      <td>35209</td>\n",
       "      <td>677</td>\n",
       "      <td>0.002794</td>\n",
       "      <td>1.080528</td>\n",
       "      <td>1_U.S._Totals</td>\n",
       "      <td>3_Subsector_(3-digit_NAICS)</td>\n",
       "    </tr>\n",
       "  </tbody>\n",
       "</table>\n",
       "</div>"
      ],
      "text/plain": [
       "   FIPS Geographic Title NAICS  \\\n",
       "0     0      U.S. Totals    10   \n",
       "1     0      U.S. Totals    11   \n",
       "2     0      U.S. Totals   111   \n",
       "3     0      U.S. Totals   112   \n",
       "4     0      U.S. Totals   115   \n",
       "\n",
       "                                    Industry Title  Average_establishments  \\\n",
       "0                                    Total Private                 9536831   \n",
       "1       Agriculture, Forestry, Fishing and Hunting                  104445   \n",
       "2                                  Crop Production                   47420   \n",
       "3                Animal Production and Aquaculture                   25732   \n",
       "4  Support Activities for Agriculture and Forestry                   19493   \n",
       "\n",
       "   Annual \\naverage\\nemployment  Total annual\\nwages\\n(in thousands)  \\\n",
       "0                     122386565                           6772575479   \n",
       "1                       1261312                             43470311   \n",
       "2                        554994                             18200268   \n",
       "3                        262870                              9877259   \n",
       "4                        381145                             12422696   \n",
       "\n",
       "   Annual\\nwages per\\nemployee  Average\\nweekly wage  \\\n",
       "0                        55338                  1064   \n",
       "1                        34464                   663   \n",
       "2                        32794                   631   \n",
       "3                        37575                   723   \n",
       "4                        32593                   627   \n",
       "\n",
       "   Average \\nestablishments  Annual \\naverage\\nemployment.1  \\\n",
       "0                    299457                        12488563   \n",
       "1                       338                            2976   \n",
       "2                       112                            1162   \n",
       "3                        79                             619   \n",
       "4                       126                            1065   \n",
       "\n",
       "   Total annual\\nwages\\n(in thousands).1  Annual\\nwages per\\nemployee.1  \\\n",
       "0                              670218053                          53667   \n",
       "1                                 104105                          34981   \n",
       "2                                  38847                          33431   \n",
       "3                                  24429                          39465   \n",
       "4                                  37498                          35209   \n",
       "\n",
       "   Average\\nweekly wage.1  Percent  employment 501(c)(3)  Wage\\nRatio  \\\n",
       "0                    1032                       0.102042     0.966503   \n",
       "1                     673                       0.002359     1.015031   \n",
       "2                     643                       0.002094     1.019486   \n",
       "3                     759                       0.002355     1.050439   \n",
       "4                     677                       0.002794     1.080528   \n",
       "\n",
       "  Geographic Level               Industry Level  \n",
       "0    1_U.S._Totals              1_Total_Private  \n",
       "1    1_U.S._Totals     2_Sector_(2-digit_NAICS)  \n",
       "2    1_U.S._Totals  3_Subsector_(3-digit_NAICS)  \n",
       "3    1_U.S._Totals  3_Subsector_(3-digit_NAICS)  \n",
       "4    1_U.S._Totals  3_Subsector_(3-digit_NAICS)  "
      ]
     },
     "execution_count": 42,
     "metadata": {},
     "output_type": "execute_result"
    }
   ],
   "source": [
    "df.head()"
   ]
  },
  {
   "cell_type": "code",
   "execution_count": 43,
   "metadata": {},
   "outputs": [
    {
     "data": {
      "text/plain": [
       "Index(['FIPS', 'Geographic Title', 'NAICS', 'Industry Title',\n",
       "       'Average_establishments', 'Annual \\naverage\\nemployment',\n",
       "       'Total annual\\nwages\\n(in thousands)', 'Annual\\nwages per\\nemployee',\n",
       "       'Average\\nweekly wage', 'Average \\nestablishments',\n",
       "       'Annual \\naverage\\nemployment.1',\n",
       "       'Total annual\\nwages\\n(in thousands).1',\n",
       "       'Annual\\nwages per\\nemployee.1', 'Average\\nweekly wage.1',\n",
       "       'Percent  employment 501(c)(3)', 'Wage\\nRatio', 'Geographic Level',\n",
       "       'Industry Level'],\n",
       "      dtype='object')"
      ]
     },
     "execution_count": 43,
     "metadata": {},
     "output_type": "execute_result"
    }
   ],
   "source": [
    "df.keys()\n"
   ]
  },
  {
   "cell_type": "code",
   "execution_count": 44,
   "metadata": {},
   "outputs": [
    {
     "data": {
      "text/plain": [
       "Index(['FIPS', 'Geographic Title', 'NAICS', 'Industry Title',\n",
       "       'Average_establishments', 'Annual \\naverage\\nemployment',\n",
       "       'Total annual\\nwages\\n(in thousands)', 'Annual\\nwages per\\nemployee',\n",
       "       'Average\\nweekly wage', 'Average \\nestablishments',\n",
       "       'Annual \\naverage\\nemployment.1',\n",
       "       'Total annual\\nwages\\n(in thousands).1',\n",
       "       'Annual\\nwages per\\nemployee.1', 'Average\\nweekly wage.1',\n",
       "       'Percent  employment 501(c)(3)', 'Wage\\nRatio', 'Geographic Level',\n",
       "       'Industry Level'],\n",
       "      dtype='object')"
      ]
     },
     "execution_count": 44,
     "metadata": {},
     "output_type": "execute_result"
    }
   ],
   "source": [
    "df.columns"
   ]
  },
  {
   "cell_type": "code",
   "execution_count": 45,
   "metadata": {},
   "outputs": [
    {
     "data": {
      "text/plain": [
       "0            0\n",
       "1            0\n",
       "2            0\n",
       "3            0\n",
       "4            0\n",
       "         ...  \n",
       "11168    72127\n",
       "11169    72127\n",
       "11170    78010\n",
       "11171    78010\n",
       "11172    78030\n",
       "Name: FIPS, Length: 11173, dtype: int64"
      ]
     },
     "execution_count": 45,
     "metadata": {},
     "output_type": "execute_result"
    }
   ],
   "source": [
    "df.FIPS"
   ]
  },
  {
   "cell_type": "code",
   "execution_count": 46,
   "metadata": {},
   "outputs": [
    {
     "data": {
      "text/plain": [
       "0         10\n",
       "1         11\n",
       "2        111\n",
       "3        112\n",
       "4        115\n",
       "        ... \n",
       "11168    624\n",
       "11169     81\n",
       "11170     62\n",
       "11171     81\n",
       "11172     10\n",
       "Name: NAICS, Length: 11173, dtype: object"
      ]
     },
     "execution_count": 46,
     "metadata": {},
     "output_type": "execute_result"
    }
   ],
   "source": [
    "df.NAICS"
   ]
  },
  {
   "cell_type": "code",
   "execution_count": 48,
   "metadata": {},
   "outputs": [
    {
     "data": {
      "text/plain": [
       "104445"
      ]
     },
     "execution_count": 48,
     "metadata": {},
     "output_type": "execute_result"
    }
   ],
   "source": [
    "df.Average_establishments[1]"
   ]
  },
  {
   "cell_type": "code",
   "execution_count": null,
   "metadata": {},
   "outputs": [],
   "source": []
  }
 ],
 "metadata": {
  "kernelspec": {
   "display_name": "Python 3",
   "language": "python",
   "name": "python3"
  },
  "language_info": {
   "codemirror_mode": {
    "name": "ipython",
    "version": 3
   },
   "file_extension": ".py",
   "mimetype": "text/x-python",
   "name": "python",
   "nbconvert_exporter": "python",
   "pygments_lexer": "ipython3",
   "version": "3.8.3"
  }
 },
 "nbformat": 4,
 "nbformat_minor": 4
}
